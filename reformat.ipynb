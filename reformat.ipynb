{
 "cells": [
  {
   "cell_type": "code",
   "execution_count": 1,
   "metadata": {},
   "outputs": [],
   "source": [
    "import pandas as pd\n",
    "import numpy as np\n",
    "import os\n",
    "import json\n",
    "from utils.read_conllu import Data"
   ]
  },
  {
   "cell_type": "code",
   "execution_count": 2,
   "metadata": {},
   "outputs": [],
   "source": [
    "def load_json(path):\n",
    "    with open(path, encoding=\"utf-8\") as file:\n",
    "        split_dict = json.load(file)\n",
    "    return Data.from_json(split_dict)"
   ]
  },
  {
   "cell_type": "code",
   "execution_count": 3,
   "metadata": {},
   "outputs": [],
   "source": [
    "def get_results_df(lang_data, mlp_path, sgd_path):\n",
    "    # Create results data frame with basic info\n",
    "    results = pd.DataFrame()\n",
    "    results[\"Language\"] = lang_data[\"language\"]\n",
    "    results[\"Family\"] = lang_data[\"family\"]\n",
    "    results[\"Script\"] = lang_data[\"script\"]\n",
    "    # Read in MLP and SGD results\n",
    "    mlp_res = pd.read_csv(mlp_path, sep=\"\\t\", index_col=0)\n",
    "    sgd_res = pd.read_csv(sgd_path, sep=\"\\t\", index_col=0)\n",
    "    # Reformat language names & Calculate number of classes\n",
    "    sgd_res[\"#Classes\"] = sgd_res[\"Classes\"].str.split(\",\").str.len()\n",
    "    sgd_res[\"Language\"] = sgd_res[\"Language\"].str.split(\"_\").str.join(\" \")\n",
    "    mlp_res[\"Language\"] = mlp_res[\"Language\"].str.split(\"_\").str.join(\" \")\n",
    "    # Select necessary columns\n",
    "    sgd_res = sgd_res[['Language', 'SGD Accuracy', 'SGD Balanced Accuracy','SGD Sensitivity', 'Majority Baseline Accuracy', 'Random Baseline Accuracy', '#Classes']]\n",
    "    mlp_res = mlp_res[['Language', 'MLP Accuracy', 'MLP Balanced Accuracy', 'MLP Sensitivity', 'Random Baseline Accuracy',]]\n",
    "    # Merge results\n",
    "    results = pd.merge(left=results, right=sgd_res, on=\"Language\")\n",
    "    results = pd.merge(left=results, right=mlp_res, on=\"Language\", suffixes=[\" SGD\", \" MLP\"])\n",
    "    # Select and order necessary columns\n",
    "    results = results[['Language', \"Family\", \"Script\", '#Classes',  'Majority Baseline Accuracy', 'Random Baseline Accuracy SGD', 'SGD Accuracy', 'SGD Balanced Accuracy', 'SGD Sensitivity', 'Random Baseline Accuracy MLP', 'MLP Accuracy', 'MLP Balanced Accuracy', 'MLP Sensitivity']]\n",
    "    # Order data alphabetically \n",
    "    results = results.sort_values(by=\"Language\")\n",
    "    return results"
   ]
  },
  {
   "cell_type": "code",
   "execution_count": 4,
   "metadata": {},
   "outputs": [],
   "source": [
    "def format_latex(lang_data, results_df, marked_langs):\n",
    "    latex_df = results_df.copy(deep=True)\n",
    "    original_lang_str = results_df[\"Language\"]\n",
    "    in_bert_langs = lang_data[lang_data[\"bert training data\"]][\"language\"]\n",
    "    latex_df[\"Language\"] = np.where(\n",
    "        original_lang_str.isin(marked_langs), \n",
    "        original_lang_str.astype(str) + \"*\", original_lang_str )\n",
    "    latex_df[\"Language\"] = np.where(\n",
    "        original_lang_str.isin(in_bert_langs), \n",
    "        latex_df[\"Language\"] , \n",
    "        r\"\\textbf{\" + latex_df[\"Language\"].astype(str) + \"}\")\n",
    "    return latex_df\n",
    "    "
   ]
  },
  {
   "cell_type": "code",
   "execution_count": 5,
   "metadata": {},
   "outputs": [],
   "source": [
    "# Determine training size for each language.\n",
    "data_dir = \"preprocessed\"\n",
    "langs = os.listdir(data_dir)\n",
    "less_than_500 = []\n",
    "for l in langs:\n",
    "    path  = os.path.join(data_dir, l)\n",
    "    file = os.path.join(path, \"preprocessed.json\")\n",
    "    data = load_json(file)\n",
    "    if len(data.train()) < 500:\n",
    "        less_than_500.append(l)"
   ]
  },
  {
   "cell_type": "code",
   "execution_count": 6,
   "metadata": {},
   "outputs": [],
   "source": [
    "# Read in language data\n",
    "lang_data = pd.read_csv(\"languages.tsv\", sep=\"\\t\")"
   ]
  },
  {
   "attachments": {},
   "cell_type": "markdown",
   "metadata": {},
   "source": [
    "## POS Tagging Experiments"
   ]
  },
  {
   "cell_type": "code",
   "execution_count": 7,
   "metadata": {},
   "outputs": [],
   "source": [
    "out_tsv = \"results/upos.tsv\"\n",
    "out_latex = \"results/upos.tex\""
   ]
  },
  {
   "cell_type": "code",
   "execution_count": 8,
   "metadata": {},
   "outputs": [
    {
     "name": "stderr",
     "output_type": "stream",
     "text": [
      "/tmp/ipykernel_127303/210692802.py:8: FutureWarning: In future versions `DataFrame.to_latex` is expected to utilise the base implementation of `Styler.to_latex` for formatting and rendering. The arguments signature may therefore change. It is recommended instead to use `DataFrame.style.to_latex` which also contains additional functionality.\n",
      "  latex_df.round(decimals=3).to_latex(out_latex, index=False, escape=False)\n"
     ]
    }
   ],
   "source": [
    "results_df = get_results_df(\n",
    "    lang_data,\n",
    "    mlp_path=\"results/upos-MLP.tsv\",\n",
    "    sgd_path=\"results/upos-SGD.tsv\")\n",
    "\n",
    "latex_df = format_latex(lang_data=lang_data, results_df=results_df, marked_langs=less_than_500)\n",
    "\n",
    "latex_df.round(decimals=3).to_latex(out_latex, index=False, escape=False)\n",
    "results_df.to_csv(out_tsv, sep=\"\\t\")"
   ]
  },
  {
   "attachments": {},
   "cell_type": "markdown",
   "metadata": {},
   "source": [
    "## Tense"
   ]
  },
  {
   "cell_type": "code",
   "execution_count": 9,
   "metadata": {},
   "outputs": [],
   "source": [
    "out_tsv = \"results/tense.tsv\"\n",
    "out_latex = \"results/tense.tex\""
   ]
  },
  {
   "cell_type": "code",
   "execution_count": 10,
   "metadata": {},
   "outputs": [
    {
     "name": "stderr",
     "output_type": "stream",
     "text": [
      "/tmp/ipykernel_127303/3411090557.py:8: FutureWarning: In future versions `DataFrame.to_latex` is expected to utilise the base implementation of `Styler.to_latex` for formatting and rendering. The arguments signature may therefore change. It is recommended instead to use `DataFrame.style.to_latex` which also contains additional functionality.\n",
      "  latex_df.round(decimals=3).to_latex(out_latex, index=False, escape=False)\n"
     ]
    }
   ],
   "source": [
    "results_df = get_results_df(\n",
    "    lang_data,\n",
    "    mlp_path=\"results/tense-MLP.tsv\",\n",
    "    sgd_path=\"results/tense-SGD.tsv\")\n",
    "\n",
    "latex_df = format_latex(lang_data=lang_data, results_df=results_df, marked_langs=less_than_500)\n",
    "\n",
    "latex_df.round(decimals=3).to_latex(out_latex, index=False, escape=False)\n",
    "results_df.to_csv(out_tsv, sep=\"\\t\")"
   ]
  },
  {
   "attachments": {},
   "cell_type": "markdown",
   "metadata": {},
   "source": [
    "## Case"
   ]
  },
  {
   "cell_type": "code",
   "execution_count": 11,
   "metadata": {},
   "outputs": [],
   "source": [
    "out_tsv = \"results/case.tsv\"\n",
    "out_latex = \"results/case.tex\""
   ]
  },
  {
   "cell_type": "code",
   "execution_count": 12,
   "metadata": {},
   "outputs": [
    {
     "name": "stderr",
     "output_type": "stream",
     "text": [
      "/tmp/ipykernel_127303/2641048171.py:8: FutureWarning: In future versions `DataFrame.to_latex` is expected to utilise the base implementation of `Styler.to_latex` for formatting and rendering. The arguments signature may therefore change. It is recommended instead to use `DataFrame.style.to_latex` which also contains additional functionality.\n",
      "  latex_df.round(decimals=3).to_latex(out_latex, index=False, escape=False)\n"
     ]
    }
   ],
   "source": [
    "results_df = get_results_df(\n",
    "    lang_data,\n",
    "    mlp_path=\"results/case-MLP.tsv\",\n",
    "    sgd_path=\"results/case-SGD.tsv\")\n",
    "\n",
    "latex_df = format_latex(lang_data=lang_data, results_df=results_df, marked_langs=less_than_500)\n",
    "\n",
    "latex_df.round(decimals=3).to_latex(out_latex, index=False, escape=False)\n",
    "results_df.to_csv(out_tsv, sep=\"\\t\")"
   ]
  },
  {
   "attachments": {},
   "cell_type": "markdown",
   "metadata": {},
   "source": [
    "## Gender"
   ]
  },
  {
   "cell_type": "code",
   "execution_count": 13,
   "metadata": {},
   "outputs": [],
   "source": [
    "out_tsv = \"results/gender.tsv\"\n",
    "out_latex = \"results/gender.tex\""
   ]
  },
  {
   "cell_type": "code",
   "execution_count": 14,
   "metadata": {},
   "outputs": [
    {
     "name": "stderr",
     "output_type": "stream",
     "text": [
      "/tmp/ipykernel_127303/3901328440.py:8: FutureWarning: In future versions `DataFrame.to_latex` is expected to utilise the base implementation of `Styler.to_latex` for formatting and rendering. The arguments signature may therefore change. It is recommended instead to use `DataFrame.style.to_latex` which also contains additional functionality.\n",
      "  latex_df.round(decimals=3).to_latex(out_latex, index=False, escape=False)\n"
     ]
    }
   ],
   "source": [
    "results_df = get_results_df(\n",
    "    lang_data,\n",
    "    mlp_path=\"results/gender-MLP.tsv\",\n",
    "    sgd_path=\"results/gender-SGD.tsv\")\n",
    "\n",
    "latex_df = format_latex(lang_data=lang_data, results_df=results_df, marked_langs=less_than_500)\n",
    "\n",
    "latex_df.round(decimals=3).to_latex(out_latex, index=False, escape=False)\n",
    "results_df.to_csv(out_tsv, sep=\"\\t\")"
   ]
  },
  {
   "attachments": {},
   "cell_type": "markdown",
   "metadata": {},
   "source": [
    "## Number"
   ]
  },
  {
   "cell_type": "code",
   "execution_count": 15,
   "metadata": {},
   "outputs": [],
   "source": [
    "out_tsv = \"results/number.tsv\"\n",
    "out_latex = \"results/number.tex\""
   ]
  },
  {
   "cell_type": "code",
   "execution_count": 16,
   "metadata": {},
   "outputs": [
    {
     "name": "stderr",
     "output_type": "stream",
     "text": [
      "/tmp/ipykernel_127303/592009440.py:8: FutureWarning: In future versions `DataFrame.to_latex` is expected to utilise the base implementation of `Styler.to_latex` for formatting and rendering. The arguments signature may therefore change. It is recommended instead to use `DataFrame.style.to_latex` which also contains additional functionality.\n",
      "  latex_df.round(decimals=3).to_latex(out_latex, index=False, escape=False)\n"
     ]
    }
   ],
   "source": [
    "results_df = get_results_df(\n",
    "    lang_data,\n",
    "    mlp_path=\"results/number-MLP.tsv\",\n",
    "    sgd_path=\"results/number-SGD.tsv\")\n",
    "\n",
    "latex_df = format_latex(lang_data=lang_data, results_df=results_df, marked_langs=less_than_500)\n",
    "\n",
    "latex_df.round(decimals=3).to_latex(out_latex, index=False, escape=False)\n",
    "results_df.to_csv(out_tsv, sep=\"\\t\")"
   ]
  },
  {
   "cell_type": "code",
   "execution_count": null,
   "metadata": {},
   "outputs": [],
   "source": []
  },
  {
   "cell_type": "code",
   "execution_count": null,
   "metadata": {},
   "outputs": [],
   "source": []
  }
 ],
 "metadata": {
  "kernelspec": {
   "display_name": "probing",
   "language": "python",
   "name": "python3"
  },
  "language_info": {
   "codemirror_mode": {
    "name": "ipython",
    "version": 3
   },
   "file_extension": ".py",
   "mimetype": "text/x-python",
   "name": "python",
   "nbconvert_exporter": "python",
   "pygments_lexer": "ipython3",
   "version": "3.10.13"
  },
  "orig_nbformat": 4
 },
 "nbformat": 4,
 "nbformat_minor": 2
}
